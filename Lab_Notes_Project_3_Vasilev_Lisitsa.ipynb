{
  "cells": [
    {
      "cell_type": "markdown",
      "metadata": {
        "id": "HjdFAOdVxMGd"
      },
      "source": [
        "# \"Unraveling the Origins: Investigating the Cause of a Gastrointestinal Infection Outbreak and Characterizing the Properties of a Novel Pathogenic Strain\"\n",
        "\n",
        "Project #3\n",
        "\n",
        "*Lab Journal by Artem Vasilev and Tatiana Lisitsa*\n",
        "\n",
        "---"
      ]
    },
    {
      "cell_type": "markdown",
      "metadata": {
        "id": "L6zhmfk4OtXM"
      },
      "source": [
        "## Preparing"
      ]
    },
    {
      "cell_type": "markdown",
      "metadata": {
        "id": "u7yPElPLPFx4"
      },
      "source": [
        "Update packages:\n",
        "\n",
        "`$ sudo apt update && sudo apt upgrade`"
      ]
    },
    {
      "cell_type": "markdown",
      "metadata": {
        "id": "Bi8TtKdrPvzJ"
      },
      "source": [
        "Create virtual environment from `environment.yaml` file:\n",
        "\n",
        "`$ mamba env create -f environment.yaml -p /home/<user>/<anaconda3 or conda>/envs/<env_name>`\n",
        "\n",
        "Specify your username, an install path and name of environment"
      ]
    },
    {
      "cell_type": "markdown",
      "metadata": {
        "id": "mTdb9BwNP20I"
      },
      "source": [
        "Activate it:\n",
        "\n",
        "`$ mamba activate <env_name>`"
      ]
    },
    {
      "cell_type": "markdown",
      "source": [
        "**!WARNING!**\n",
        "\n",
        "For the last steps of data analysis, you need the **Mauve** program, which can be problematic to run on Linux, so we recommend using <u>Windows</u> if possible"
      ],
      "metadata": {
        "id": "Y-mrxE3HVbgf"
      }
    },
    {
      "cell_type": "markdown",
      "source": [
        "**For Windows:**\n",
        "\n",
        "Download it from [official website](https://darlinglab.org/mauve/download.html)"
      ],
      "metadata": {
        "id": "KXPkAWSYWGme"
      }
    },
    {
      "cell_type": "markdown",
      "source": [
        "**For Linux:**\n",
        "\n",
        "`$ wget -P tools/ https://darlinglab.org/mauve/snapshots/2015/2015-02-13/linux-x64/mauve_linux_snapshot_2015-02-13.tar.gz`\n",
        "\n",
        "`$ tar -xvzf tools/mauve_linux_snapshot_2015-02-13.tar.gz -C tools/ && rm tools/mauve_linux_snapshot_2015-02-13.tar.gz`\n",
        "\n",
        "`$ tools/mauve_snapshot_2015-02-13/Mauve`  # didn't work for us\n",
        "\n",
        "`$ java -jar tools/mauve_snapshot_2015-02-13/Mauve.jar`  # also didn't work"
      ],
      "metadata": {
        "id": "MjUAIxA3WOvR"
      }
    },
    {
      "cell_type": "markdown",
      "metadata": {
        "id": "r7kQPYgE10lA"
      },
      "source": [
        "---"
      ]
    },
    {
      "cell_type": "markdown",
      "metadata": {
        "id": "mhSUuxNcZQpc"
      },
      "source": [
        "## Analyzing data"
      ]
    },
    {
      "cell_type": "markdown",
      "metadata": {
        "id": "rBkgBcJ3ZSh7"
      },
      "source": [
        "Many of the steps are done using **SnakeMake**. For details see `Snakefile`'s contents"
      ]
    },
    {
      "cell_type": "markdown",
      "metadata": {
        "id": "KNsga2-lo8q_"
      },
      "source": [
        "---"
      ]
    },
    {
      "cell_type": "markdown",
      "source": [
        "### Download libraries and make **FastQC** reports"
      ],
      "metadata": {
        "id": "VZv5ZpmAZS-3"
      }
    },
    {
      "cell_type": "markdown",
      "source": [
        "```\n",
        "$ snakemake --cores=all -p \\\n",
        "results/fastqc/forward_PE_470bp_fastqc.html \\\n",
        "results/fastqc/reverse_PE_470bp_fastqc.html \\\n",
        "results/fastqc/forward_MP_2kb_fastqc.html \\\n",
        "results/fastqc/reverse_MP_2kb_fastqc.html \\\n",
        "results/fastqc/forward_MP_6kb_fastqc.html \\\n",
        "results/fastqc/reverse_MP_6kb_fastqc.html\n",
        "```\n",
        "\n",
        "`-p`  # print detailed output"
      ],
      "metadata": {
        "id": "bnf60GsmZw9U"
      }
    },
    {
      "cell_type": "markdown",
      "source": [
        "Three libraries from the **TY2482 sample** with the following insert sizes and orientation:\n",
        "\n",
        "**SRR292678 - paired end, insert size 470 bp (400 Mb each):**\n",
        "- [forward reads](https://d28rh4a8wq0iu5.cloudfront.net/bioinfo/SRR292678sub_S1_L001_R1_001.fastq.gz)\n",
        "- [reverse reads](https://d28rh4a8wq0iu5.cloudfront.net/bioinfo/SRR292678sub_S1_L001_R2_001.fastq.gz)\n",
        "\n",
        "**SRR292862 – mate pair, insert size 2 kb (200 Mb each):**\n",
        "- [forward reads](https://d28rh4a8wq0iu5.cloudfront.net/bioinfo/SRR292862_S2_L001_R1_001.fastq.gz)\n",
        "- [reverse reads](https://d28rh4a8wq0iu5.cloudfront.net/bioinfo/SRR292862_S2_L001_R2_001.fastq.gz)\n",
        "\n",
        "**SRR292770 – mate pair, insert size 6 kb (200 Mb each):**\n",
        "- [forward reads](https://d28rh4a8wq0iu5.cloudfront.net/bioinfo/SRR292770_S1_L001_R1_001.fastq.gz)\n",
        "- [reverse reads](https://d28rh4a8wq0iu5.cloudfront.net/bioinfo/SRR292770_S1_L001_R2_001.fastq.gz)"
      ],
      "metadata": {
        "id": "dMO0VxV9LlTS"
      }
    },
    {
      "cell_type": "markdown",
      "metadata": {
        "id": "KlkhCOqto9sY"
      },
      "source": [
        "---"
      ]
    },
    {
      "cell_type": "markdown",
      "source": [
        "### Make **MultiQC** report"
      ],
      "metadata": {
        "id": "FOpAQY4VaCvf"
      }
    },
    {
      "cell_type": "markdown",
      "source": [
        "```\n",
        "$ snakemake --cores=all -p results/multiqc/multiqc_report.html\n",
        "```"
      ],
      "metadata": {
        "id": "IlNTWQ6iaLJW"
      }
    },
    {
      "cell_type": "markdown",
      "source": [
        "After running these commands, your repository will have the following structure:\n",
        "```\n",
        "-/Practice/Project_3/\n",
        " |- libraries\n",
        "       |- forward_MP_2kb.fastq.gz\n",
        "       |- forward_MP_6kb.fastq.gz\n",
        "       |- forward_PE_470bp.fastq.gz\n",
        "       |- reverse_MP_2kb.fastq.gz\n",
        "       |- reverse_MP_6kb.fastq.gz\n",
        "       |- reverse_PE_470bp.fastq.gz\n",
        " |- results\n",
        "       |- fastqc\n",
        "            |- 12 items (5.2 MB)\n",
        "       |- multiqc\n",
        "            |- multiqc_data\n",
        "                 |- 7 items (328 kB)\n",
        "            |- multiqc_report.html (1.3 MB)\n",
        "```"
      ],
      "metadata": {
        "id": "e6JRwCzQPgQQ"
      }
    },
    {
      "cell_type": "markdown",
      "metadata": {
        "id": "2Ce_DnHko-W-"
      },
      "source": [
        "---"
      ]
    },
    {
      "cell_type": "markdown",
      "source": [
        "### Count k-mers with **Jellyfish count**"
      ],
      "metadata": {
        "id": "uJzL4Fd-YOA_"
      }
    },
    {
      "cell_type": "markdown",
      "source": [
        "`snakemake --cores=all -p results/jellyfish/PE_470bp_kmer_31.jf`\n",
        "\n",
        "After that change params in Snakefile!!! (`-s 500M` to `-s 260M`):\n",
        "\n",
        "`snakemake --cores=all -p results/jellyfish/MP_2kb_kmer_31.jf`\n",
        "\n",
        "`snakemake --cores=all -p results/jellyfish/MP_6kb_kmer_31.jf`\n",
        "\n"
      ],
      "metadata": {
        "id": "I-01B6DeU1wD"
      }
    },
    {
      "cell_type": "markdown",
      "source": [
        "### Make a histogram files with **Jellyfish histo**"
      ],
      "metadata": {
        "id": "Y-jVlIT9YgFh"
      }
    },
    {
      "cell_type": "markdown",
      "source": [
        "`snakemake --cores=all -p results/jellyfish/PE_470bp_kmer_31_histo.txt`\n",
        "\n",
        "`snakemake --cores=all -p results/jellyfish/MP_2kb_kmer_31_histo.txt`\n",
        "\n",
        "`snakemake --cores=all -p results/jellyfish/MP_6kb_kmer_31_histo.txt`"
      ],
      "metadata": {
        "id": "VFZIeXTzSPbd"
      }
    },
    {
      "cell_type": "markdown",
      "source": [
        "After running these commands, your repository will have the following structure:\n",
        "```\n",
        "-/Practice/Project_3/\n",
        " ...\n",
        " |- results\n",
        "       ...\n",
        "       |- jellyfish\n",
        "            |- MP_2kb_kmer_31.jf\n",
        "            |- MP_2kb_kmer_31_histo.txt\n",
        "            |- MP_6kb_kmer_31.jf\n",
        "            |- MP_6kb_kmer_31_histo.txt\n",
        "            |- PE_470bp_kmer_31.jf\n",
        "            |- PE_470bp_kmer_31_histo.txt\n",
        "```"
      ],
      "metadata": {
        "id": "4on-ZsG_dhx5"
      }
    },
    {
      "cell_type": "markdown",
      "metadata": {
        "id": "bBmySt6Bo_Kp"
      },
      "source": [
        "---"
      ]
    },
    {
      "cell_type": "markdown",
      "source": [
        "### Visualise histogram files with **python script**"
      ],
      "metadata": {
        "id": "w39l30JCr9-d"
      }
    },
    {
      "cell_type": "markdown",
      "source": [
        "```\n",
        "$ mv visualisation.py results/jellyfish \\\n",
        "&& cd results/jellyfish \\\n",
        "&& python visualisation.py \\\n",
        "&& cd ../..\n",
        "```"
      ],
      "metadata": {
        "id": "sNeKXBjGyyQY"
      }
    },
    {
      "cell_type": "markdown",
      "source": [
        "After running these commands, your repository will have the following structure:\n",
        "```\n",
        "-/Practice/Project_3/\n",
        " ...\n",
        " |- results\n",
        "       ...\n",
        "       |- jellyfish\n",
        "            |- ...\n",
        "            |- MP_2kb_kmer_31_histo.png\n",
        "            |- MP_6kb_kmer_31_histo.png\n",
        "            |- PE_470bp_kmer_31_histo.png\n",
        "            |- visualisation.py\n",
        "```"
      ],
      "metadata": {
        "id": "21mLrHF0z4KD"
      }
    },
    {
      "cell_type": "markdown",
      "metadata": {
        "id": "Z8pRw0wwsGMm"
      },
      "source": [
        "---"
      ]
    },
    {
      "cell_type": "markdown",
      "source": [
        "### Assemble genome with **SPAdes**"
      ],
      "metadata": {
        "id": "34mQ3TF8kSdf"
      }
    },
    {
      "cell_type": "markdown",
      "source": [
        "Assemble a single library of sequencing (paired end) reads:\n",
        "\n",
        "```\n",
        "spades.py -1 libraries/forward_PE_470bp.fastq.gz -2 libraries/reverse_PE_470bp.fastq.gz -o results/spades/pe_lib\n",
        "```"
      ],
      "metadata": {
        "id": "902gMelCkSCt"
      }
    },
    {
      "cell_type": "markdown",
      "source": [
        "Estimate the genome size:\n",
        "\n",
        "```\n",
        "M = 64  # k-mer peak\n",
        "K = 31  # k-mer size\n",
        "L = 90  # avg read length\n",
        "T = 5499346*90  # total bases\n",
        "N = (M*L)/(L-K+1)  # depth of coverage\n",
        "genome_size = T/N\n",
        "print(round(genome_size))  # 5_155_637\n",
        "```"
      ],
      "metadata": {
        "id": "Uk4koxqhenym"
      }
    },
    {
      "cell_type": "markdown",
      "source": [
        "Run SPAdes again by consolidating **three libraries**:"
      ],
      "metadata": {
        "id": "IpVVkUlfexyZ"
      }
    },
    {
      "cell_type": "markdown",
      "source": [
        "```\n",
        "spades.py -t 16 \\\n",
        "--pe1-1 libraries/forward_PE_470bp.fastq.gz --pe1-2 libraries/reverse_PE_470bp.fastq.gz \\\n",
        "--mp1-1 libraries/forward_MP_2kb.fastq.gz --mp1-2 libraries/reverse_MP_2kb.fastq.gz \\\n",
        "--mp2-1 libraries/forward_MP_6kb.fastq.gz --mp2-2 libraries/reverse_MP_6kb.fastq.gz \\\n",
        "-o results/spades/all_libs\n",
        "```"
      ],
      "metadata": {
        "id": "oudCT_9k8REA"
      }
    },
    {
      "cell_type": "markdown",
      "source": [
        "After running these commands, your repository will have the following structure:\n",
        "```\n",
        "-/Practice/Project_3/\n",
        " ...\n",
        " |- results\n",
        "       ...\n",
        "       |- spades\n",
        "            |- all_libs\n",
        "            |- pe_lib\n",
        "```\n",
        "\n",
        "All folders contain 7 folders and 17 and 15 other items respectively. Pay attention to `contigs.fasta` and `scaffolds.fasta`"
      ],
      "metadata": {
        "id": "6gUAsf8RfEMc"
      }
    },
    {
      "cell_type": "markdown",
      "metadata": {
        "id": "-RZyWROgpAHn"
      },
      "source": [
        "---"
      ]
    },
    {
      "cell_type": "markdown",
      "source": [
        "### Assess the quality of the resulting assembly with **Quast**"
      ],
      "metadata": {
        "id": "UMOhCOf8swkk"
      }
    },
    {
      "cell_type": "markdown",
      "source": [
        "For pe_lib:\n",
        "\n",
        "```\n",
        "$ quast.py results/spades/pe_lib/contigs.fasta -o results/quast/contigs_pe_lib\n",
        "$ quast.py results/spades/pe_lib/scaffolds.fasta -o results/quast/scaffolds_pe_lib\n",
        "```"
      ],
      "metadata": {
        "id": "bA-Y-x_FuZ8k"
      }
    },
    {
      "cell_type": "markdown",
      "source": [
        "For all_libs:\n",
        "\n",
        "```\n",
        "$ quast.py results/spades/all_libs/contigs.fasta -o results/quast/contigs_all_libs\n",
        "$ quast.py results/spades/all_libs/scaffolds.fasta -o results/quast/scaffolds_all_libs\n",
        "```"
      ],
      "metadata": {
        "id": "dDC-F-Zisy99"
      }
    },
    {
      "cell_type": "markdown",
      "source": [
        "After running these commands, your repository will have the following structure:\n",
        "```\n",
        "-/Practice/Project_3/\n",
        " ...\n",
        " |- results\n",
        "       ...\n",
        "       |- quast\n",
        "            |- contigs_all_libs\n",
        "            |- contigs_pe_lib\n",
        "            |- scaffolds_all_libs\n",
        "            |- scaffolds_pe_lib\n",
        "```\n",
        "\n",
        "All folders contain 2 folders, 10 other items. Pay attention to `report.html`"
      ],
      "metadata": {
        "id": "ZpZ078gGgHLX"
      }
    },
    {
      "cell_type": "markdown",
      "metadata": {
        "id": "QKVeqTuFpAvO"
      },
      "source": [
        "---"
      ]
    },
    {
      "cell_type": "markdown",
      "source": [
        "### Gene prediction and annotation with **Prokka**"
      ],
      "metadata": {
        "id": "304qFK9jFZAG"
      }
    },
    {
      "cell_type": "markdown",
      "source": [
        "`$ --centre C --locustag L prokka results/spades/all_libs/scaffolds.fasta -o results/prokka`\n",
        "\n",
        "Two additional flags are needed for correct results interpretation in the next steps"
      ],
      "metadata": {
        "id": "6ciXJanmFeVz"
      }
    },
    {
      "cell_type": "markdown",
      "source": [
        "After running this command, your repository will have the following structure:\n",
        "```\n",
        "-/Practice/Project_3/\n",
        " ...\n",
        " |- results\n",
        "       ...\n",
        "       |- prokka\n",
        "            |- 12 items (56.7 MB)\n",
        "```\n",
        "\n",
        "Pay attention to `PROKKA_<date>.gbk`"
      ],
      "metadata": {
        "id": "31nUtV3Thlxa"
      }
    },
    {
      "cell_type": "markdown",
      "metadata": {
        "id": "Q6bypfdApBO0"
      },
      "source": [
        "---"
      ]
    },
    {
      "cell_type": "markdown",
      "source": [
        "### Find the 16S rRNA in the results of the most recent run of SPAdes with **Barrnap**"
      ],
      "metadata": {
        "id": "-9ca15gnIhW8"
      }
    },
    {
      "cell_type": "markdown",
      "source": [
        "`$ mkdir results/barrnap`\n",
        "\n",
        "`$ barrnap results/spades/all_libs/scaffolds.fasta --outseq results/barrnap/barr.fna`"
      ],
      "metadata": {
        "id": "9voKLknIIih7"
      }
    },
    {
      "cell_type": "markdown",
      "source": [
        "After running this command, your repository will have the following structure:\n",
        "```\n",
        "-/Practice/Project_3/\n",
        " ...\n",
        " |- results\n",
        "       ...\n",
        "       |- barrnap\n",
        "            |- barr.fna (30.4 kB)\n",
        "```"
      ],
      "metadata": {
        "id": "I8x9ub_dirGP"
      }
    },
    {
      "cell_type": "markdown",
      "metadata": {
        "id": "6_KvSK_RpCbj"
      },
      "source": [
        "---"
      ]
    },
    {
      "cell_type": "markdown",
      "source": [
        "### Finding the closest relative of *E. coli X* with **BLAST**"
      ],
      "metadata": {
        "id": "g-HaQJq84o-a"
      }
    },
    {
      "cell_type": "markdown",
      "source": [
        "1. Go to the [BLAST page](https://blast.ncbi.nlm.nih.gov/Blast.cgi)\n",
        "2. Select **Nucleotide BLAST**\n",
        "3. In the **Enter Query Sequence** paste all found 16S_rRNA sequences (8) from `barr.fna`\n",
        "4. Change parameters:\n",
        "  - Database: RefSeq Genome Database (refseq_genomes)\n",
        "  - Organism: Escherichia coli (taxid:562)\n",
        "  - Entrez Query: 1900/01/01:2011/01/01[PDAT]\n",
        "5. BLAST"
      ],
      "metadata": {
        "id": "Fq_MKT1fjQLx"
      }
    },
    {
      "cell_type": "markdown",
      "source": [
        "Download the closest relative to the *E. coli X* that can be used as a reference genome:\n",
        "\n",
        "`$ snakemake --cores=all -p reference/55989.fasta`"
      ],
      "metadata": {
        "id": "icgGQXX-4qaT"
      }
    },
    {
      "cell_type": "markdown",
      "source": [
        "After running this command, your repository will have the following structure:\n",
        "```\n",
        "-/Practice/Project_3/\n",
        " ...\n",
        " |- results\n",
        "       ...\n",
        "       |- reference\n",
        "            |- 55989.fasta (5.2 MB)\n",
        "```"
      ],
      "metadata": {
        "id": "6DSBs_tvk0y1"
      }
    },
    {
      "cell_type": "markdown",
      "metadata": {
        "id": "REqzubt7pDBR"
      },
      "source": [
        "---"
      ]
    },
    {
      "cell_type": "markdown",
      "source": [
        "### Compare the *E. coli X* with the reference genome with **Mauve**"
      ],
      "metadata": {
        "id": "ocBY36RelFHy"
      }
    },
    {
      "cell_type": "markdown",
      "source": [
        "1. Remember the WARNING\n",
        "2. Open `Mauve.jar`\n",
        "3. `\"File\"` → `\"Align with progressiveMauve\"`\n",
        "4. `\"Add sequence\"` and select the reference genome (`55989.fasta`) and the annotated *E. coli X* genome (`PROKKA_<date>.gbk`)\n",
        "5. Manually set the `Output`:\n",
        "  - Create folder for results\n",
        "  - Copy its path\n",
        "  - Paste to the output field and add `\\<name_without_extension>`\n",
        "6. Start the alignment (4 files will be created)\n",
        "7. Analyse the results:\n",
        "  - Use `\"Sequence Navigator\"` (the icon of the binoculars in the upper line)\n",
        "  - Select `\"Product\"` in the left window and enter the name of the desired gene (`Shiga toxin`)"
      ],
      "metadata": {
        "id": "W7GpH-FglQUG"
      }
    },
    {
      "cell_type": "markdown",
      "metadata": {
        "id": "8p_vI6-FpDrI"
      },
      "source": [
        "---"
      ]
    },
    {
      "cell_type": "markdown",
      "source": [
        "### Search for genes responsible for antibiotic resistance with [ResFinder](https://cge.food.dtu.dk/services/ResFinder/)"
      ],
      "metadata": {
        "id": "MbY7lLafnOxt"
      }
    },
    {
      "cell_type": "markdown",
      "source": [
        "1. Choose file `all_libs/scaffolds.fasta`\n",
        "2. Pay attention to the column named **WGS-predicted phenotype** and **Resistant** value\n",
        "3. Find genes from corresponding classes in *E. coli X* via Mauve (e.g. Product = aminoglycoside)"
      ],
      "metadata": {
        "id": "xV1YPc_Kncag"
      }
    }
  ],
  "metadata": {
    "colab": {
      "provenance": [],
      "toc_visible": true
    },
    "kernelspec": {
      "display_name": "Python 3 (ipykernel)",
      "language": "python",
      "name": "python3"
    },
    "language_info": {
      "codemirror_mode": {
        "name": "ipython",
        "version": 3
      },
      "file_extension": ".py",
      "mimetype": "text/x-python",
      "name": "python",
      "nbconvert_exporter": "python",
      "pygments_lexer": "ipython3",
      "version": "3.10.12"
    }
  },
  "nbformat": 4,
  "nbformat_minor": 0
}